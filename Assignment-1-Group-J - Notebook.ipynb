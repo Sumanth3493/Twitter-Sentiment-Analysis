{
 "cells": [
  {
   "cell_type": "markdown",
   "metadata": {},
   "source": [
    "# Importing Libraries:"
   ]
  },
  {
   "cell_type": "code",
   "execution_count": 1,
   "metadata": {},
   "outputs": [],
   "source": [
    "import tweepy as tw\n",
    "import pandas as pd\n",
    "import csv\n",
    "from celluloid import Camera\n",
    "import matplotlib.animation as animation\n",
    "import numpy as np\n",
    "from nltk.classify import NaiveBayesClassifier\n",
    "import re\n",
    "from nltk.corpus import subjectivity\n",
    "from nltk.sentiment import SentimentAnalyzer\n",
    "from nltk.sentiment.util import *\n",
    "import matplotlib.pyplot as plt"
   ]
  },
  {
   "cell_type": "markdown",
   "metadata": {},
   "source": [
    "# variables that control user credential: "
   ]
  },
  {
   "cell_type": "code",
   "execution_count": 2,
   "metadata": {},
   "outputs": [],
   "source": [
    "ACCESS_Token = \"1263149831339626497-dVJZEnNj1TVp7nGWkKSVYWv6XlubgK\"\n",
    "ACCESS_Token_Secret = \"csgqSA3Q6G6jr9cxjl1NUd8qaQRsK9ByrRQPA9hS9GuPE\"\n",
    "CONSUMER_API_KEY = \"0QncdDMpWYQ9fewsMaSz2rBzJ\"\n",
    "CONSUMER_API_SECRET = \"dBXhrhe9BIGPSeQFtERMIjGYsOU7D4Kn281gFEvBPpHpFIG7H8\""
   ]
  },
  {
   "cell_type": "code",
   "execution_count": 3,
   "metadata": {},
   "outputs": [],
   "source": [
    "#creating the authentication object:\n",
    "auth = tw.OAuthHandler(CONSUMER_API_KEY,CONSUMER_API_SECRET)\n",
    "\n",
    "#Setting access token and secret:\n",
    "auth.set_access_token(ACCESS_Token,ACCESS_Token_Secret)\n",
    "\n",
    "#creating the API object while passing in auth info:\n",
    "api= tw.API(auth,wait_on_rate_limit=True)"
   ]
  },
  {
   "cell_type": "markdown",
   "metadata": {},
   "source": [
    "# Using function for cleaning the text data:"
   ]
  },
  {
   "cell_type": "code",
   "execution_count": 4,
   "metadata": {},
   "outputs": [],
   "source": [
    "def cleanText(tw):\n",
    "    cleanedText = re.sub(r\"http\\S+\", \"\", tw)\n",
    "    cleanedText = re.sub('@[^\\s]+',\"\", cleanedText)\n",
    "    cleanedText = re.sub(r\"[^a-zA-Z0-9]+\", ' ', cleanedText)\n",
    "    cleanedText = re.sub(r\"\\d+\", ' ', cleanedText)\n",
    "    cleanedText = re.sub(r'\\b\\w{1,2}\\b','',cleanedText)\n",
    "    return cleanedText"
   ]
  },
  {
   "cell_type": "markdown",
   "metadata": {},
   "source": [
    "# Fetching tweets for #Altcoin and saving into csv file"
   ]
  },
  {
   "cell_type": "code",
   "execution_count": null,
   "metadata": {},
   "outputs": [],
   "source": [
    "csvFile = open('Tweets_Altcoin.csv', 'a')\n",
    "    \n",
    "with open('Tweets_Altcoin.csv', 'w', newline='') as file:\n",
    "    writer = csv.DictWriter(file, fieldnames = [\"Tweet_Id\", \"Time_Of_Tweet\", \"User_ID\", \"Tweet_Text\"])\n",
    "    writer.writeheader()\n",
    "    csvWriter = csv.writer(csvFile)    \n",
    "\n",
    "for tweet in tw.Cursor(api.search,q='\"#Altcoin\"',rpp=100,count=100, lang=\"en\",since=\"2020-06-22\",tweet_mode='extended').items():\n",
    "        new_text=cleanText(tweet.full_text)\n",
    "        csvWriter.writerow([tweet.id,tweet.created_at,tweet.user.id, new_text])\n"
   ]
  },
  {
   "cell_type": "markdown",
   "metadata": {},
   "source": [
    "# Fetching tweets for #Bitcoin and saving into csv file"
   ]
  },
  {
   "cell_type": "code",
   "execution_count": null,
   "metadata": {},
   "outputs": [],
   "source": [
    "csvFile = open('Tweets_Bitcoin.csv', 'a')\n",
    "    \n",
    "with open('Tweets_Bitcoin.csv', 'w', newline='') as file:\n",
    "    writer = csv.DictWriter(file, fieldnames = [\"Tweet_Id\", \"Time_Of_Tweet\", \"User_ID\", \"Tweet_Text\"])\n",
    "    writer.writeheader()\n",
    "    csvWriter = csv.writer(csvFile)    \n",
    "\n",
    "for tweet in tw.Cursor(api.search,q='\"#Bitcoin\"',rpp=100,count=100, lang=\"en\",since=\"2020-06-22\",tweet_mode='extended').items():\n",
    "        new_text=cleanText(tweet.full_text)\n",
    "        csvWriter.writerow([tweet.id,tweet.created_at,tweet.user.id, new_text])        "
   ]
  },
  {
   "cell_type": "markdown",
   "metadata": {},
   "source": [
    "# Fetching tweets for #Coindesk and saving into csv file"
   ]
  },
  {
   "cell_type": "code",
   "execution_count": 37,
   "metadata": {},
   "outputs": [],
   "source": [
    "csvFile = open('Tweets_Coindesk.csv', 'a')\n",
    "    \n",
    "with open('Tweets_Coindesk.csv', 'w', newline='') as file:\n",
    "    writer = csv.DictWriter(file, fieldnames = [\"Tweet_Id\", \"Time_Of_Tweet\", \"User_ID\", \"Tweet_Text\"])\n",
    "    writer.writeheader()\n",
    "    csvWriter = csv.writer(csvFile)    \n",
    "\n",
    "for tweet in tw.Cursor(api.search,q='\"#Coindesk\"',rpp=100,count=100, lang=\"en\",since=\"2020-06-22\",tweet_mode='extended').items():\n",
    "        new_text=cleanText(tweet.full_text)\n",
    "        csvWriter.writerow([tweet.id,tweet.created_at,tweet.user.id, new_text])     \n"
   ]
  },
  {
   "cell_type": "markdown",
   "metadata": {},
   "source": [
    "# Fetching tweets for #Cryptocurrency and saving into csv file"
   ]
  },
  {
   "cell_type": "code",
   "execution_count": null,
   "metadata": {},
   "outputs": [],
   "source": [
    "csvFile = open('Tweets_Cryptocurrency.csv', 'a')\n",
    "    \n",
    "with open('Tweets_Cryptocurrency.csv', 'w', newline='') as file:\n",
    "    writer = csv.DictWriter(file, fieldnames = [\"Tweet_Id\", \"Time_Of_Tweet\", \"User_ID\", \"Tweet_Text\"])\n",
    "    writer.writeheader()\n",
    "    csvWriter = csv.writer(csvFile)    \n",
    "\n",
    "for tweet in tw.Cursor(api.search,q='\"#Cryptocurrency\"',rpp=100,count=100, lang=\"en\",since=\"2020-06-22\",tweet_mode='extended').items():\n",
    "        new_text=cleanText(tweet.full_text)\n",
    "        csvWriter.writerow([tweet.id,tweet.created_at,tweet.user.id, new_text])       \n"
   ]
  },
  {
   "cell_type": "markdown",
   "metadata": {},
   "source": [
    "# Fetching tweets for #Gold and saving into csv file"
   ]
  },
  {
   "cell_type": "code",
   "execution_count": null,
   "metadata": {},
   "outputs": [],
   "source": [
    "csvFile = open('Tweets_Gold.csv', 'a')\n",
    "    \n",
    "with open('Tweets_Gold.csv', 'w', newline='') as file:\n",
    "    writer = csv.DictWriter(file, fieldnames = [\"Tweet_Id\", \"Time_Of_Tweet\", \"User_ID\", \"Tweet_Text\"])\n",
    "    writer.writeheader()\n",
    "    csvWriter = csv.writer(csvFile)    \n",
    "\n",
    "for tweet in tw.Cursor(api.search,q='\"#Gold\"',rpp=100,count=100, lang=\"en\",since=\"2020-06-22\",tweet_mode='extended').items():\n",
    "        new_text=cleanText(tweet.full_text)\n",
    "        csvWriter.writerow([tweet.id,tweet.created_at,tweet.user.id, new_text])       \n"
   ]
  },
  {
   "cell_type": "markdown",
   "metadata": {},
   "source": [
    "# Fetching tweets for #APPL and saving into csv file"
   ]
  },
  {
   "cell_type": "code",
   "execution_count": null,
   "metadata": {},
   "outputs": [],
   "source": [
    "csvFile = open('Tweets_APPL.csv', 'a')\n",
    "    \n",
    "with open('Tweets_APPL.csv', 'w', newline='') as file:\n",
    "    writer = csv.DictWriter(file, fieldnames = [\"Tweet_Id\", \"Time_Of_Tweet\", \"User_ID\", \"Tweet_Text\"])\n",
    "    writer.writeheader()\n",
    "    csvWriter = csv.writer(csvFile)    \n",
    "\n",
    "for tweet in tw.Cursor(api.search,q='\"#APPLE\"',rpp=100,count=100, lang=\"en\",since=\"2020-06-22\",tweet_mode='extended').items():\n",
    "        new_text=cleanText(tweet.full_text)\n",
    "        csvWriter.writerow([tweet.id,tweet.created_at,tweet.user.id, new_text])       \n"
   ]
  },
  {
   "cell_type": "markdown",
   "metadata": {},
   "source": [
    "# Fetching tweets for #GOOG and saving into csv file"
   ]
  },
  {
   "cell_type": "code",
   "execution_count": 14,
   "metadata": {},
   "outputs": [],
   "source": [
    "csvFile = open('Tweets_GOOG.csv', 'a')\n",
    "    \n",
    "with open('Tweets_GOOG.csv', 'w', newline='') as file:\n",
    "    writer = csv.DictWriter(file, fieldnames = [\"Tweet_Id\", \"Time_Of_Tweet\", \"User_ID\", \"Tweet_Text\"])\n",
    "    writer.writeheader()\n",
    "    csvWriter = csv.writer(csvFile)    \n",
    "\n",
    "for tweet in tw.Cursor(api.search,q='\"#GOOGLE\"',rpp=100,count=100, lang=\"en\",since=\"2020-06-22\",tweet_mode='extended').items():\n",
    "        new_text=cleanText(tweet.full_text)\n",
    "        csvWriter.writerow([tweet.id,tweet.created_at,tweet.user.id, new_text])        \n"
   ]
  },
  {
   "cell_type": "markdown",
   "metadata": {},
   "source": [
    "# Fetching tweets for #YHOO and saving into csv file"
   ]
  },
  {
   "cell_type": "code",
   "execution_count": 16,
   "metadata": {},
   "outputs": [],
   "source": [
    "csvFile = open('Tweets_YHOO.csv', 'a')\n",
    "    \n",
    "with open('Tweets_YHOO.csv', 'w', newline='') as file:\n",
    "    writer = csv.DictWriter(file, fieldnames = [\"Tweet_Id\", \"Time_Of_Tweet\", \"User_ID\", \"Tweet_Text\"])\n",
    "    writer.writeheader()\n",
    "    csvWriter = csv.writer(csvFile)    \n",
    "\n",
    "for tweet in tw.Cursor(api.search,q='\"#YAHOO\"',rpp=100,count=100, lang=\"en\",since=\"2020-06-22\",tweet_mode='extended').items():\n",
    "        new_text=cleanText(tweet.full_text)\n",
    "        csvWriter.writerow([tweet.id,tweet.created_at,tweet.user.id, new_text])       \n"
   ]
  },
  {
   "cell_type": "markdown",
   "metadata": {},
   "source": [
    "# Visualizing data, finding total numbers of tweets and users: #Altcoin"
   ]
  },
  {
   "cell_type": "code",
   "execution_count": 4,
   "metadata": {
    "scrolled": true
   },
   "outputs": [
    {
     "data": {
      "image/png": "[encoded data removed]",
      "text/plain": [
       "<Figure size 360x216 with 1 Axes>"
      ]
     },
     "metadata": {
      "needs_background": "light"
     },
     "output_type": "display_data"
    },
    {
     "name": "stdout",
     "output_type": "stream",
     "text": [
      "date\n",
      "2020-06-22    300\n",
      "2020-06-23    373\n",
      "2020-06-24    351\n",
      "2020-06-25    301\n",
      "2020-06-26    282\n",
      "2020-06-27    246\n",
      "2020-06-28    215\n",
      "2020-06-29    301\n",
      "2020-06-30    191\n",
      "Name: Tweet_Id, dtype: int64\n",
      "2560\n"
     ]
    },
    {
     "data": {
      "image/png": "[encoded data removed]",
      "text/plain": [
       "<Figure size 360x216 with 1 Axes>"
      ]
     },
     "metadata": {
      "needs_background": "light"
     },
     "output_type": "display_data"
    },
    {
     "name": "stdout",
     "output_type": "stream",
     "text": [
      "date\n",
      "2020-06-22    110\n",
      "2020-06-23    148\n",
      "2020-06-24    137\n",
      "2020-06-25    109\n",
      "2020-06-26    101\n",
      "2020-06-27    104\n",
      "2020-06-28     94\n",
      "2020-06-29    136\n",
      "2020-06-30     81\n",
      "Name: User_ID, dtype: int64\n",
      "562\n"
     ]
    }
   ],
   "source": [
    "df = pd.read_csv('Tweets_Altcoin.csv')\n",
    "df.head()\n",
    "df['year'] = pd.DatetimeIndex(df['Time_Of_Tweet']).year\n",
    "df['date'] = pd.DatetimeIndex(df['Time_Of_Tweet']).date\n",
    "df['month'] = pd.DatetimeIndex(df['Time_Of_Tweet']).month\n",
    "df.head()\n",
    "\n",
    "tweet_count=df.groupby('date')['Tweet_Id'].nunique()\n",
    "total_tweet_count=df['Tweet_Id'].nunique()\n",
    "tweet_count.plot(kind='bar',color='blue',figsize=(5,3))\n",
    "plt.title('ALTCOIN')\n",
    "plt.xlabel('DATE')\n",
    "plt.ylabel('DAILY NUMBER OF TWEETS')\n",
    "plt.show()\n",
    "print(tweet_count)\n",
    "print(total_tweet_count)\n",
    "\n",
    "user_count=df.groupby('date')['User_ID'].nunique()\n",
    "total_user_count=df['User_ID'].nunique()\n",
    "user_count.plot(kind='bar',color='red',figsize=(5,3))\n",
    "plt.title('ALTCOIN')\n",
    "plt.xlabel('DATE')\n",
    "plt.ylabel('DAILY NUMBER OF USERS')         \n",
    "plt.show()\n",
    "print(user_count)\n",
    "print(total_user_count)"
   ]
  },
  {
   "cell_type": "markdown",
   "metadata": {},
   "source": [
    "# Visualizing data, finding total numbers of tweets and users: #Bitcoin"
   ]
  },
  {
   "cell_type": "code",
   "execution_count": 14,
   "metadata": {},
   "outputs": [
    {
     "data": {
      "image/png": "[encoded data removed]",
      "text/plain": [
       "<Figure size 360x216 with 1 Axes>"
      ]
     },
     "metadata": {
      "needs_background": "light"
     },
     "output_type": "display_data"
    },
    {
     "name": "stdout",
     "output_type": "stream",
     "text": [
      "date\n",
      "2020-06-22    7940\n",
      "2020-06-23    9472\n",
      "2020-06-24    8745\n",
      "2020-06-25    8581\n",
      "2020-06-26    7920\n",
      "2020-06-27    7262\n",
      "2020-06-28    7109\n",
      "2020-06-29    8373\n",
      "2020-06-30    6355\n",
      "Name: Tweet_Id, dtype: int64\n",
      "71757\n"
     ]
    },
    {
     "data": {
      "image/png": "[encoded data removed]",
      "text/plain": [
       "<Figure size 360x216 with 1 Axes>"
      ]
     },
     "metadata": {
      "needs_background": "light"
     },
     "output_type": "display_data"
    },
    {
     "name": "stdout",
     "output_type": "stream",
     "text": [
      "date\n",
      "2020-06-22    3678\n",
      "2020-06-23    4416\n",
      "2020-06-24    4035\n",
      "2020-06-25    4015\n",
      "2020-06-26    3600\n",
      "2020-06-27    3346\n",
      "2020-06-28    3257\n",
      "2020-06-29    3817\n",
      "2020-06-30    3137\n",
      "Name: User_ID, dtype: int64\n",
      "16571\n"
     ]
    }
   ],
   "source": [
    "df = pd.read_csv('Tweets_Bitcoin.csv')\n",
    "df.head()\n",
    "df['year'] = pd.DatetimeIndex(df['Time_Of_Tweet']).year\n",
    "df['date'] = pd.DatetimeIndex(df['Time_Of_Tweet']).date\n",
    "df['month'] = pd.DatetimeIndex(df['Time_Of_Tweet']).month\n",
    "df.head()\n",
    "\n",
    "tweet_count=df.groupby('date')['Tweet_Id'].nunique()\n",
    "total_tweet_count=df['Tweet_Id'].nunique()\n",
    "tweet_count.plot(kind='bar',color='blue',figsize=(5,3))\n",
    "plt.title('Bitcoin')\n",
    "plt.xlabel('DATE')\n",
    "plt.ylabel('DAILY NUMBER OF TWEETS')\n",
    "plt.show()\n",
    "print(tweet_count)\n",
    "print(total_tweet_count)\n",
    "\n",
    "user_count=df.groupby('date')['User_ID'].nunique()\n",
    "total_user_count=df['User_ID'].nunique()\n",
    "user_count.plot(kind='bar',color='red',figsize=(5,3))\n",
    "plt.title('Bitcoin')\n",
    "plt.xlabel('DATE')\n",
    "plt.ylabel('DAILY NUMBER OF USERS')         \n",
    "plt.show()\n",
    "print(user_count)\n",
    "print(total_user_count)"
   ]
  },
  {
   "cell_type": "markdown",
   "metadata": {},
   "source": [
    "# Visualizing data, finding total numbers of tweets and users: #Coindesk"
   ]
  },
  {
   "cell_type": "code",
   "execution_count": 18,
   "metadata": {},
   "outputs": [
    {
     "data": {
      "image/png": "[encoded data removed]",
      "text/plain": [
       "<Figure size 360x216 with 1 Axes>"
      ]
     },
     "metadata": {
      "needs_background": "light"
     },
     "output_type": "display_data"
    },
    {
     "name": "stdout",
     "output_type": "stream",
     "text": [
      "date\n",
      "2020-06-22    58\n",
      "2020-06-23    71\n",
      "2020-06-24    74\n",
      "2020-06-25    71\n",
      "2020-06-26    68\n",
      "2020-06-27    51\n",
      "2020-06-28    50\n",
      "2020-06-29    54\n",
      "2020-06-30    35\n",
      "Name: Tweet_Id, dtype: int64\n",
      "532\n"
     ]
    },
    {
     "data": {
      "image/png": "[encoded data removed]",
      "text/plain": [
       "<Figure size 360x216 with 1 Axes>"
      ]
     },
     "metadata": {
      "needs_background": "light"
     },
     "output_type": "display_data"
    },
    {
     "name": "stdout",
     "output_type": "stream",
     "text": [
      "date\n",
      "2020-06-22    8\n",
      "2020-06-23    7\n",
      "2020-06-24    5\n",
      "2020-06-25    5\n",
      "2020-06-26    5\n",
      "2020-06-27    3\n",
      "2020-06-28    3\n",
      "2020-06-29    7\n",
      "2020-06-30    1\n",
      "Name: User_ID, dtype: int64\n",
      "24\n"
     ]
    }
   ],
   "source": [
    "df = pd.read_csv('Tweets_Coindesk.csv')\n",
    "df.head()\n",
    "df['year'] = pd.DatetimeIndex(df['Time_Of_Tweet']).year\n",
    "df['date'] = pd.DatetimeIndex(df['Time_Of_Tweet']).date\n",
    "df['month'] = pd.DatetimeIndex(df['Time_Of_Tweet']).month\n",
    "df.head()\n",
    "\n",
    "tweet_count=df.groupby('date')['Tweet_Id'].nunique()\n",
    "total_tweet_count=df['Tweet_Id'].nunique()\n",
    "tweet_count.plot(kind='bar',color='blue',figsize=(5,3))\n",
    "plt.title('Coindesk')\n",
    "plt.xlabel('DATE')\n",
    "plt.ylabel('DAILY NUMBER OF TWEETS')\n",
    "plt.show()\n",
    "print(tweet_count)\n",
    "print(total_tweet_count)\n",
    "\n",
    "user_count=df.groupby('date')['User_ID'].nunique()\n",
    "total_user_count=df['User_ID'].nunique()\n",
    "user_count.plot(kind='bar',color='red',figsize=(5,3))\n",
    "plt.title('Coindesk')\n",
    "plt.xlabel('DATE')\n",
    "plt.ylabel('DAILY NUMBER OF USERS')         \n",
    "plt.show()\n",
    "print(user_count)\n",
    "print(total_user_count)"
   ]
  },
  {
   "cell_type": "markdown",
   "metadata": {},
   "source": [
    "# Visualizing data, finding total numbers of tweets and users: #Cryptocurrency"
   ]
  },
  {
   "cell_type": "code",
   "execution_count": 19,
   "metadata": {},
   "outputs": [
    {
     "data": {
      "image/png": "[encoded data removed]",
      "text/plain": [
       "<Figure size 360x216 with 1 Axes>"
      ]
     },
     "metadata": {
      "needs_background": "light"
     },
     "output_type": "display_data"
    },
    {
     "name": "stdout",
     "output_type": "stream",
     "text": [
      "date\n",
      "2020-06-22    3499\n",
      "2020-06-23    3995\n",
      "2020-06-24    3736\n",
      "2020-06-25    3601\n",
      "2020-06-26    3592\n",
      "2020-06-27    3081\n",
      "2020-06-28    2875\n",
      "2020-06-29    3394\n",
      "2020-06-30    2441\n",
      "Name: Tweet_Id, dtype: int64\n",
      "30214\n"
     ]
    },
    {
     "data": {
      "image/png": "[encoded data removed]",
      "text/plain": [
       "<Figure size 360x216 with 1 Axes>"
      ]
     },
     "metadata": {
      "needs_background": "light"
     },
     "output_type": "display_data"
    },
    {
     "name": "stdout",
     "output_type": "stream",
     "text": [
      "date\n",
      "2020-06-22    1624\n",
      "2020-06-23    1753\n",
      "2020-06-24    1653\n",
      "2020-06-25    1497\n",
      "2020-06-26    1566\n",
      "2020-06-27    1296\n",
      "2020-06-28    1157\n",
      "2020-06-29    1424\n",
      "2020-06-30    1110\n",
      "Name: User_ID, dtype: int64\n",
      "7163\n"
     ]
    }
   ],
   "source": [
    "df = pd.read_csv('Tweets_Cryptocurrency.csv')\n",
    "df.head()\n",
    "df['year'] = pd.DatetimeIndex(df['Time_Of_Tweet']).year\n",
    "df['date'] = pd.DatetimeIndex(df['Time_Of_Tweet']).date\n",
    "df['month'] = pd.DatetimeIndex(df['Time_Of_Tweet']).month\n",
    "df.head()\n",
    "\n",
    "tweet_count=df.groupby('date')['Tweet_Id'].nunique()\n",
    "total_tweet_count=df['Tweet_Id'].nunique()\n",
    "tweet_count.plot(kind='bar',color='blue',figsize=(5,3))\n",
    "plt.title('Cryptocurrency')\n",
    "plt.xlabel('DATE')\n",
    "plt.ylabel('DAILY NUMBER OF TWEETS')\n",
    "plt.show()\n",
    "print(tweet_count)\n",
    "print(total_tweet_count)\n",
    "\n",
    "user_count=df.groupby('date')['User_ID'].nunique()\n",
    "total_user_count=df['User_ID'].nunique()\n",
    "user_count.plot(kind='bar',color='red',figsize=(5,3))\n",
    "plt.title('Cryptocurrency')\n",
    "plt.xlabel('DATE')\n",
    "plt.ylabel('DAILY NUMBER OF USERS')         \n",
    "plt.show()\n",
    "print(user_count)\n",
    "print(total_user_count)"
   ]
  },
  {
   "cell_type": "markdown",
   "metadata": {},
   "source": [
    "# Visualizing data, finding total numbers of tweets and users: #Gold"
   ]
  },
  {
   "cell_type": "code",
   "execution_count": 20,
   "metadata": {},
   "outputs": [
    {
     "data": {
      "image/png": "[encoded data removed]",
      "text/plain": [
       "<Figure size 360x216 with 1 Axes>"
      ]
     },
     "metadata": {
      "needs_background": "light"
     },
     "output_type": "display_data"
    },
    {
     "name": "stdout",
     "output_type": "stream",
     "text": [
      "date\n",
      "2020-06-22    138\n",
      "2020-06-23    175\n",
      "2020-06-24    194\n",
      "2020-06-25    119\n",
      "2020-06-26    119\n",
      "2020-06-27     61\n",
      "2020-06-28     83\n",
      "2020-06-29    167\n",
      "2020-06-30    141\n",
      "Name: Tweet_Id, dtype: int64\n",
      "1197\n"
     ]
    },
    {
     "data": {
      "image/png": "[encoded data removed]",
      "text/plain": [
       "<Figure size 360x216 with 1 Axes>"
      ]
     },
     "metadata": {
      "needs_background": "light"
     },
     "output_type": "display_data"
    },
    {
     "name": "stdout",
     "output_type": "stream",
     "text": [
      "date\n",
      "2020-06-22     96\n",
      "2020-06-23    117\n",
      "2020-06-24    127\n",
      "2020-06-25     89\n",
      "2020-06-26     85\n",
      "2020-06-27     43\n",
      "2020-06-28     63\n",
      "2020-06-29    113\n",
      "2020-06-30    105\n",
      "Name: User_ID, dtype: int64\n",
      "532\n"
     ]
    }
   ],
   "source": [
    "df = pd.read_csv('Tweets_gold.csv')\n",
    "df.head()\n",
    "df['year'] = pd.DatetimeIndex(df['Time_Of_Tweet']).year\n",
    "df['date'] = pd.DatetimeIndex(df['Time_Of_Tweet']).date\n",
    "df['month'] = pd.DatetimeIndex(df['Time_Of_Tweet']).month\n",
    "df.head()\n",
    "\n",
    "\n",
    "tweet_count=df.groupby('date')['Tweet_Id'].nunique()\n",
    "total_tweet_count=df['Tweet_Id'].nunique()\n",
    "tweet_count.plot(kind='bar',color='blue',figsize=(5,3))\n",
    "plt.title('GOLD')\n",
    "plt.xlabel('DATE')\n",
    "plt.ylabel('DAILY NUMBER OF TWEETS')\n",
    "plt.show()\n",
    "print(tweet_count)\n",
    "print(total_tweet_count)\n",
    "\n",
    "user_count=df.groupby('date')['User_ID'].nunique()\n",
    "total_user_count=df['User_ID'].nunique()\n",
    "user_count.plot(kind='bar',color='red',figsize=(5,3))\n",
    "plt.title('GOLD')\n",
    "plt.xlabel('DATE')\n",
    "plt.ylabel('DAILY NUMBER OF USERS')         \n",
    "plt.show()\n",
    "print(user_count)\n",
    "print(total_user_count)"
   ]
  },
  {
   "cell_type": "markdown",
   "metadata": {},
   "source": [
    "# Visualizing data, finding total numbers of tweets and users: #APPL"
   ]
  },
  {
   "cell_type": "code",
   "execution_count": 21,
   "metadata": {},
   "outputs": [
    {
     "data": {
      "image/png": "[encoded data removed]",
      "text/plain": [
       "<Figure size 360x216 with 1 Axes>"
      ]
     },
     "metadata": {
      "needs_background": "light"
     },
     "output_type": "display_data"
    },
    {
     "name": "stdout",
     "output_type": "stream",
     "text": [
      "date\n",
      "2020-06-22    7042\n",
      "2020-06-23    4142\n",
      "2020-06-24    2166\n",
      "2020-06-25    1905\n",
      "2020-06-26    1977\n",
      "2020-06-27    1577\n",
      "2020-06-28    1414\n",
      "2020-06-29    1953\n",
      "2020-06-30    1257\n",
      "Name: Tweet_Id, dtype: int64\n",
      "23433\n"
     ]
    },
    {
     "data": {
      "image/png": "[encoded data removed]",
      "text/plain": [
       "<Figure size 360x216 with 1 Axes>"
      ]
     },
     "metadata": {
      "needs_background": "light"
     },
     "output_type": "display_data"
    },
    {
     "name": "stdout",
     "output_type": "stream",
     "text": [
      "date\n",
      "2020-06-22    4083\n",
      "2020-06-23    2811\n",
      "2020-06-24    1551\n",
      "2020-06-25    1290\n",
      "2020-06-26    1260\n",
      "2020-06-27     956\n",
      "2020-06-28     861\n",
      "2020-06-29    1317\n",
      "2020-06-30     835\n",
      "Name: User_ID, dtype: int64\n",
      "11545\n"
     ]
    }
   ],
   "source": [
    "df = pd.read_csv('Tweets_APPL.csv')\n",
    "df.head()\n",
    "df['year'] = pd.DatetimeIndex(df['Time_Of_Tweet']).year\n",
    "df['date'] = pd.DatetimeIndex(df['Time_Of_Tweet']).date\n",
    "df['month'] = pd.DatetimeIndex(df['Time_Of_Tweet']).month\n",
    "df.head()\n",
    "\n",
    "\n",
    "tweet_count=df.groupby('date')['Tweet_Id'].nunique()\n",
    "total_tweet_count=df['Tweet_Id'].nunique()\n",
    "tweet_count.plot(kind='bar',color='blue',figsize=(5,3))\n",
    "plt.title('APPLE')\n",
    "plt.xlabel('DATE')\n",
    "plt.ylabel('DAILY NUMBER OF TWEETS')\n",
    "plt.show()\n",
    "print(tweet_count)\n",
    "print(total_tweet_count)\n",
    "\n",
    "user_count=df.groupby('date')['User_ID'].nunique()\n",
    "total_user_count=df['User_ID'].nunique()\n",
    "user_count.plot(kind='bar',color='red',figsize=(5,3))\n",
    "plt.title('APPLE')\n",
    "plt.xlabel('DATE')\n",
    "plt.ylabel('DAILY NUMBER OF USERS')         \n",
    "plt.show()\n",
    "print(user_count)\n",
    "print(total_user_count)"
   ]
  },
  {
   "cell_type": "markdown",
   "metadata": {},
   "source": [
    "# Visualizing data, finding total numbers of tweets and users: #GOOG"
   ]
  },
  {
   "cell_type": "code",
   "execution_count": 22,
   "metadata": {},
   "outputs": [
    {
     "data": {
      "image/png": "[encoded data removed]",
      "text/plain": [
       "<Figure size 360x216 with 1 Axes>"
      ]
     },
     "metadata": {
      "needs_background": "light"
     },
     "output_type": "display_data"
    },
    {
     "name": "stdout",
     "output_type": "stream",
     "text": [
      "date\n",
      "2020-06-22    1575\n",
      "2020-06-23    1923\n",
      "2020-06-24    1764\n",
      "2020-06-25    1820\n",
      "2020-06-26    1691\n",
      "2020-06-27    1150\n",
      "2020-06-28     990\n",
      "2020-06-29    1663\n",
      "2020-06-30    1349\n",
      "Name: Tweet_Id, dtype: int64\n",
      "13925\n"
     ]
    },
    {
     "data": {
      "image/png": "[encoded data removed]",
      "text/plain": [
       "<Figure size 360x216 with 1 Axes>"
      ]
     },
     "metadata": {
      "needs_background": "light"
     },
     "output_type": "display_data"
    },
    {
     "name": "stdout",
     "output_type": "stream",
     "text": [
      "date\n",
      "2020-06-22    1192\n",
      "2020-06-23    1461\n",
      "2020-06-24    1284\n",
      "2020-06-25    1382\n",
      "2020-06-26    1280\n",
      "2020-06-27     846\n",
      "2020-06-28     700\n",
      "2020-06-29    1226\n",
      "2020-06-30    1036\n",
      "Name: User_ID, dtype: int64\n",
      "7766\n"
     ]
    }
   ],
   "source": [
    "df = pd.read_csv('Tweets_GOOG.csv')\n",
    "df.head()\n",
    "df['year'] = pd.DatetimeIndex(df['Time_Of_Tweet']).year\n",
    "df['date'] = pd.DatetimeIndex(df['Time_Of_Tweet']).date\n",
    "df['month'] = pd.DatetimeIndex(df['Time_Of_Tweet']).month\n",
    "df.head()\n",
    "\n",
    "\n",
    "tweet_count=df.groupby('date')['Tweet_Id'].nunique()\n",
    "total_tweet_count=df['Tweet_Id'].nunique()\n",
    "tweet_count.plot(kind='bar',color='blue',figsize=(5,3))\n",
    "plt.title('GOOGLE')\n",
    "plt.xlabel('DATE')\n",
    "plt.ylabel('DAILY NUMBER OF TWEETS')\n",
    "plt.show()\n",
    "print(tweet_count)\n",
    "print(total_tweet_count)\n",
    "\n",
    "user_count=df.groupby('date')['User_ID'].nunique()\n",
    "total_user_count=df['User_ID'].nunique()\n",
    "user_count.plot(kind='bar',color='red',figsize=(5,3))\n",
    "plt.title('GOOGLE')\n",
    "plt.xlabel('DATE')\n",
    "plt.ylabel('DAILY NUMBER OF USERS')         \n",
    "plt.show()\n",
    "print(user_count)\n",
    "print(total_user_count)"
   ]
  },
  {
   "cell_type": "markdown",
   "metadata": {},
   "source": [
    "# Visualizing data, finding total numbers of tweets and users: #YHOO"
   ]
  },
  {
   "cell_type": "code",
   "execution_count": 23,
   "metadata": {},
   "outputs": [
    {
     "data": {
      "image/png": "[encoded data removed]",
      "text/plain": [
       "<Figure size 360x216 with 1 Axes>"
      ]
     },
     "metadata": {
      "needs_background": "light"
     },
     "output_type": "display_data"
    },
    {
     "name": "stdout",
     "output_type": "stream",
     "text": [
      "date\n",
      "2020-06-22    16\n",
      "2020-06-23    22\n",
      "2020-06-24    36\n",
      "2020-06-25    46\n",
      "2020-06-26    62\n",
      "2020-06-27    31\n",
      "2020-06-28    29\n",
      "2020-06-29    27\n",
      "2020-06-30    23\n",
      "Name: Tweet_Id, dtype: int64\n",
      "292\n"
     ]
    },
    {
     "data": {
      "image/png": "[encoded data removed]",
      "text/plain": [
       "<Figure size 360x216 with 1 Axes>"
      ]
     },
     "metadata": {
      "needs_background": "light"
     },
     "output_type": "display_data"
    },
    {
     "name": "stdout",
     "output_type": "stream",
     "text": [
      "date\n",
      "2020-06-22    16\n",
      "2020-06-23    17\n",
      "2020-06-24    32\n",
      "2020-06-25    43\n",
      "2020-06-26    40\n",
      "2020-06-27    28\n",
      "2020-06-28    22\n",
      "2020-06-29    18\n",
      "2020-06-30    21\n",
      "Name: User_ID, dtype: int64\n",
      "201\n"
     ]
    }
   ],
   "source": [
    "df = pd.read_csv('Tweets_YHOO.csv')\n",
    "df.head()\n",
    "df['year'] = pd.DatetimeIndex(df['Time_Of_Tweet']).year\n",
    "df['date'] = pd.DatetimeIndex(df['Time_Of_Tweet']).date\n",
    "df['month'] = pd.DatetimeIndex(df['Time_Of_Tweet']).month\n",
    "df.head()\n",
    "\n",
    "\n",
    "tweet_count=df.groupby('date')['Tweet_Id'].nunique()\n",
    "total_tweet_count=df['Tweet_Id'].nunique()\n",
    "tweet_count.plot(kind='bar',color='blue',figsize=(5,3))\n",
    "plt.title('YAHOO')\n",
    "plt.xlabel('DATE')\n",
    "plt.ylabel('DAILY NUMBER OF TWEETS')\n",
    "plt.show()\n",
    "print(tweet_count)\n",
    "print(total_tweet_count)\n",
    "\n",
    "user_count=df.groupby('date')['User_ID'].nunique()\n",
    "total_user_count=df['User_ID'].nunique()\n",
    "user_count.plot(kind='bar',color='red',figsize=(5,3))\n",
    "plt.title('YAHOO')\n",
    "plt.xlabel('DATE')\n",
    "plt.ylabel('DAILY NUMBER OF USERS')         \n",
    "plt.show()\n",
    "print(user_count)\n",
    "print(total_user_count)"
   ]
  },
  {
   "cell_type": "markdown",
   "metadata": {},
   "source": [
    "# Now we are converting file to HTML"
   ]
  },
  {
   "cell_type": "code",
   "execution_count": 5,
   "metadata": {},
   "outputs": [
    {
     "name": "stderr",
     "output_type": "stream",
     "text": [
      "[NbConvertApp] Converting notebook Assignment-1-Group-J.ipynb to html\n",
      "[NbConvertApp] Writing 528805 bytes to Assignment-1-Group-J.html\n"
     ]
    }
   ],
   "source": [
    "!jupyter nbconvert  Assignment-1-Group-J.ipynb --to html"
   ]
  },
  {
   "cell_type": "code",
   "execution_count": null,
   "metadata": {},
   "outputs": [],
   "source": []
  }
 ],
 "metadata": {
  "kernelspec": {
   "display_name": "Python 3",
   "language": "python",
   "name": "python3"
  },
  "language_info": {
   "codemirror_mode": {
    "name": "ipython",
    "version": 3
   },
   "file_extension": ".py",
   "mimetype": "text/x-python",
   "name": "python",
   "nbconvert_exporter": "python",
   "pygments_lexer": "ipython3",
   "version": "3.8.3"
  }
 },
 "nbformat": 4,
 "nbformat_minor": 4
}
